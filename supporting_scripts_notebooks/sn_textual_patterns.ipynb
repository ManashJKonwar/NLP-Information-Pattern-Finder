{
 "cells": [
  {
   "attachments": {},
   "cell_type": "markdown",
   "metadata": {},
   "source": [
    "# Title: Exploring Textual Patterns / Performing Information Extractions\n",
    "\n",
    "The primary context of this notebook will be to finalize of extracting valuable insights from the news articles and see if we can really focus on extracting out of the box relationships as well. The following steps would suffice this notebook:  \n",
    "- Text Preprocessing  \n",
    "- Rule 1 for IE: Noun-Verb-Noun Extraction  \n",
    "- Rule 2 for IE: Adjective-Noun Extraction  \n",
    "- Rule 3 for IE: Preprosition-Noun Extraction  \n",
    "- Rule 4 for IE: Combination of NVN + AD Extarction based rules\n",
    "\n",
    "Details for each section could be explored in following sections"
   ]
  },
  {
   "attachments": {},
   "cell_type": "markdown",
   "metadata": {},
   "source": [
    "## Libraries Import"
   ]
  },
  {
   "cell_type": "code",
   "execution_count": null,
   "metadata": {},
   "outputs": [],
   "source": [
    "from sn_textual_preprocessing import *"
   ]
  },
  {
   "attachments": {},
   "cell_type": "markdown",
   "metadata": {},
   "source": [
    "## Notebook Variables"
   ]
  },
  {
   "attachments": {},
   "cell_type": "markdown",
   "metadata": {},
   "source": [
    "## Text Preprocessing  \n",
    "\n",
    "The steps are as follows:  \n",
    "- Remove mentions and hashtags  \n",
    "- Remove URLs  \n",
    "- Remove contractions  \n",
    "- Remove stopwords and punctuations  \n",
    "- Lemmatize all words amd lower case each of them  \n",
    "- Remove redundant domain specific words  \n",
    "- Remove extra spaces "
   ]
  },
  {
   "attachments": {},
   "cell_type": "markdown",
   "metadata": {},
   "source": [
    "## Rule 1 for IE: NVN Extraction"
   ]
  },
  {
   "attachments": {},
   "cell_type": "markdown",
   "metadata": {},
   "source": [
    "## Rule 2 for IE: AN Extraction"
   ]
  },
  {
   "attachments": {},
   "cell_type": "markdown",
   "metadata": {},
   "source": [
    "## Rule 3 fro IE: PN Extraction"
   ]
  },
  {
   "attachments": {},
   "cell_type": "markdown",
   "metadata": {},
   "source": [
    "## Rule 4 for IE: Combination of NVN + AD Extraction based rules"
   ]
  }
 ],
 "metadata": {
  "kernelspec": {
   "display_name": "NLPIpfVenv",
   "language": "python",
   "name": "python3"
  },
  "language_info": {
   "codemirror_mode": {
    "name": "ipython",
    "version": 3
   },
   "file_extension": ".py",
   "mimetype": "text/x-python",
   "name": "python",
   "nbconvert_exporter": "python",
   "pygments_lexer": "ipython3",
   "version": "3.9.13"
  },
  "orig_nbformat": 4,
  "vscode": {
   "interpreter": {
    "hash": "bb835fb24e68125b92e250d52b49dbfd3c8b98362004dd15457d2f2d7a20c919"
   }
  }
 },
 "nbformat": 4,
 "nbformat_minor": 2
}
